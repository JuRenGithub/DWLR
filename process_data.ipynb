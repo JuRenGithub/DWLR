{
 "cells": [
  {
   "cell_type": "code",
   "execution_count": 1,
   "metadata": {},
   "outputs": [],
   "source": [
    "# process data wisdm\n",
    "# download dataset from: http://www.cis.fordham.edu/wisdm/dataset.php\n",
    "# unzip file to data_dir\n",
    "\n",
    "\n",
    "import os\n",
    "import numpy as np\n",
    "import pickle\n",
    "import pandas as pd\n",
    "from sklearn.model_selection import train_test_split\n",
    "\n",
    "data_dir = './wisdm/WISDM_ar_v1.1'\n",
    "data_path = os.path.join(data_dir, 'WISDM_ar_v1.1_raw.txt')"
   ]
  },
  {
   "cell_type": "code",
   "execution_count": 3,
   "metadata": {},
   "outputs": [],
   "source": [
    "# to dataframe\n",
    "with open(data_path, 'r') as f:\n",
    "    raw_data = f.read()\n",
    "    lines = raw_data.split('\\n')"
   ]
  },
  {
   "cell_type": "code",
   "execution_count": 4,
   "metadata": {},
   "outputs": [],
   "source": [
    "class_labels = [\n",
    "    \"Walking\", \"Jogging\", \"Sitting\", \"Standing\", \"Upstairs\", \"Downstairs\",\n",
    "]\n",
    "\n",
    "datas = []\n",
    "labels = []\n",
    "users = []\n",
    "time_stamps = []\n",
    "\n",
    "for line in lines:\n",
    "    parts = line.strip().replace(';', '').split(',')\n",
    "    if len(parts) != 6 and len(parts) != 7:\n",
    "        continue\n",
    "    if parts[3] == '' or parts[4] == '' or parts[5] == '':\n",
    "        continue\n",
    "        \n",
    "    users.append(int(parts[0]))\n",
    "    datas.append([float(parts[3]), float(parts[4]), float(parts[5])])\n",
    "    time_stamps.append(int(parts[2]))\n",
    "    labels.append(class_labels.index(parts[1]))  # name --> class index"
   ]
  },
  {
   "cell_type": "code",
   "execution_count": 5,
   "metadata": {},
   "outputs": [],
   "source": [
    "data_df = pd.DataFrame()\n",
    "data_df['user'] = users\n",
    "data_df['data'] = datas\n",
    "data_df['label'] = labels\n",
    "data_df['time_stamp'] = time_stamps"
   ]
  },
  {
   "cell_type": "code",
   "execution_count": null,
   "metadata": {},
   "outputs": [],
   "source": [
    "# save dataframe\n",
    "# data_df.to_pickle('./wisdm/data_df.pkl')"
   ]
  },
  {
   "cell_type": "code",
   "execution_count": 6,
   "metadata": {},
   "outputs": [],
   "source": [
    "def make_data(window_size=128, step=0, save_path='./wisdm/dataset', data_df=None):\n",
    "    if data_df is None:\n",
    "        with open('./wisdm/data_df.pkl', 'rb') as fo:\n",
    "            data_df = pickle.load(fo)\n",
    "    step = step if step < window_size else window_size - 1\n",
    "    user_list = data_df['user'].drop_duplicates().values\n",
    "    # input()\n",
    "    for user in user_list:\n",
    "        x = data_df[data_df['user'] == user]['data'].values\n",
    "        y = data_df[data_df['user'] == user]['label'].values\n",
    "        x = np.stack(x).astype(np.float32)  # (n, ) --> (n, 3); list to numpy\n",
    "        sample_idx = []\n",
    "        i = 0\n",
    "        while i < len(y) - window_size:\n",
    "            flag, next_idx = check_label(y, i, window_size)\n",
    "            if flag:\n",
    "                sample_idx.append([_ for _ in range(i, i + window_size)])\n",
    "                i += step\n",
    "            else:\n",
    "                i += next_idx\n",
    "\n",
    "        labels = []\n",
    "        datas = []\n",
    "        for idx in sample_idx:\n",
    "            labels.append(y[idx[0]])\n",
    "            datas.append(x[idx])\n",
    "        labels = np.array(labels)\n",
    "        datas = np.array(datas)\n",
    "\n",
    "        print(f'user:{user}, data num:{labels.shape[0]}')\n",
    "\n",
    "        # split train and test\n",
    "        train_datas, test_datas, train_labels, test_lables = train_test_split(datas, labels, train_size=0.6, shuffle=True)\n",
    "        # save\n",
    "        save_path = os.path.join(save_path)\n",
    "        if not os.path.exists(save_path):\n",
    "            os.makedirs(save_path)\n",
    "        with open(os.path.join(save_path, f'{user}_train_labels.pkl'), 'wb') as fo:\n",
    "            pickle.dump(train_labels, fo)\n",
    "        with open(os.path.join(save_path, f'{user}_train_datas.pkl'), 'wb') as fo:\n",
    "            pickle.dump(train_datas, fo)\n",
    "        with open(os.path.join(save_path, f'{user}_test_labels.pkl'), 'wb') as fo:\n",
    "            pickle.dump(test_lables, fo)\n",
    "        with open(os.path.join(save_path, f'{user}_test_datas.pkl'), 'wb') as fo:\n",
    "            pickle.dump(test_datas, fo)\n",
    "\n",
    "\n",
    "def check_label(y, i, window_size):\n",
    "    first_label = y[i]\n",
    "    next_idx = 0\n",
    "    flag = True\n",
    "    for idx in range(window_size):\n",
    "        if y[idx+i] != first_label:\n",
    "            flag = False\n",
    "            first_label = y[idx+i]\n",
    "            next_idx = idx\n",
    "\n",
    "    return flag, next_idx"
   ]
  },
  {
   "cell_type": "code",
   "execution_count": 8,
   "metadata": {},
   "outputs": [],
   "source": [
    "make_data(128, step=2, save_path='./wisdm/dataset/', data_df=data_df)"
   ]
  },
  {
   "cell_type": "code",
   "execution_count": null,
   "metadata": {},
   "outputs": [],
   "source": []
  }
 ],
 "metadata": {
  "kernelspec": {
   "display_name": "base",
   "language": "python",
   "name": "python3"
  },
  "language_info": {
   "codemirror_mode": {
    "name": "ipython",
    "version": 3
   },
   "file_extension": ".py",
   "mimetype": "text/x-python",
   "name": "python",
   "nbconvert_exporter": "python",
   "pygments_lexer": "ipython3",
   "version": "3.8.5"
  },
  "orig_nbformat": 4
 },
 "nbformat": 4,
 "nbformat_minor": 2
}
